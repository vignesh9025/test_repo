{
 "cells": [
  {
   "cell_type": "markdown",
   "metadata": {},
   "source": [
    "$\\newcommand{\\xv}{\\mathbf{x}}\n",
    "\\newcommand{\\Xv}{\\mathbf{X}}\n",
    "\\newcommand{\\yv}{\\mathbf{y}}\n",
    "\\newcommand{\\zv}{\\mathbf{z}}\n",
    "\\newcommand{\\av}{\\mathbf{a}}\n",
    "\\newcommand{\\Wv}{\\mathbf{W}}\n",
    "\\newcommand{\\wv}{\\mathbf{w}}\n",
    "\\newcommand{\\tv}{\\mathbf{t}}\n",
    "\\newcommand{\\Tv}{\\mathbf{T}}\n",
    "\\newcommand{\\muv}{\\boldsymbol{\\mu}}\n",
    "\\newcommand{\\sigmav}{\\boldsymbol{\\sigma}}\n",
    "\\newcommand{\\phiv}{\\boldsymbol{\\phi}}\n",
    "\\newcommand{\\Phiv}{\\boldsymbol{\\Phi}}\n",
    "\\newcommand{\\Sigmav}{\\boldsymbol{\\Sigma}}\n",
    "\\newcommand{\\Lambdav}{\\boldsymbol{\\Lambda}}\n",
    "\\newcommand{\\half}{\\frac{1}{2}}\n",
    "\\newcommand{\\argmax}[1]{\\underset{#1}{\\operatorname{argmax}}}\n",
    "\\newcommand{\\argmin}[1]{\\underset{#1}{\\operatorname{argmin}}}$"
   ]
  },
  {
   "cell_type": "markdown",
   "metadata": {},
   "source": [
    "# Assignment 1: Linear Regression"
   ]
  },
  {
   "cell_type": "markdown",
   "metadata": {},
   "source": [
    "*by Vignesh M. Pagadala*"
   ]
  },
  {
   "cell_type": "markdown",
   "metadata": {},
   "source": [
    "## Overview"
   ]
  },
  {
   "cell_type": "markdown",
   "metadata": {},
   "source": [
    "Describe the objective of this assignment, and very briefly how you accomplish it.  Say things like \"linear model\", \"samples of inputs and known desired outputs\" and \"minimize the sum of squared errors\". DELETE THIS TEXT AND INSERT YOUR OWN."
   ]
  },
  {
   "cell_type": "markdown",
   "metadata": {},
   "source": [
    "## Method"
   ]
  },
  {
   "cell_type": "markdown",
   "metadata": {},
   "source": [
    "Define in code cells the following functions as discussed in class.  Your functions' arguments and return types must be as shown here.\n",
    "\n",
    "  * ```model = train(X, T)```\n",
    "  * ```predict = use(model, X)```\n",
    "  * ```error = rmse(predict, T)```\n",
    "  \n",
    "Let ```X``` be a two-dimensional matrix (```np.array```) with each row containing one data sample, and ```T``` be a two-dimensional matrix of one column containing the target values for each sample in ```X```.  So, ```X.shape[0]``` is equal to ```T.shape[0]```.   \n",
    "\n",
    "Function ```train``` must standardize the input data in ```X``` and return a dictionary with  keys named ```means```, ```stds```, and ```w```.  \n",
    "\n",
    "Function ```use``` must also standardize its input data X by using the means and standard deviations in the dictionary returned by ```train```.\n",
    "\n",
    "Function ```rmse``` returns the square root of the mean of the squared error between ```predict``` and ```T```.\n",
    "\n",
    "Also implement the function\n",
    "\n",
    "   * ```model = trainSGD(X, T, learningRate, numberOfIterations)```\n",
    "\n",
    "which performs the incremental training process described in class as stochastic gradient descent (SGC).  The result of this function is a dictionary with the same keys as the dictionary returned by the above ```train``` function."
   ]
  },
  {
   "cell_type": "code",
   "execution_count": 16,
   "metadata": {},
   "outputs": [],
   "source": [
    "import numpy as np\n",
    "import matplotlib.pyplot as plt\n",
    "\n",
    "def train(X, T):\n",
    "    # Standardize input data (X)\n",
    "\n",
    "    # Calculate mean and std.\n",
    "    means = X.mean(axis = 0)\n",
    "    std = X.std(axis = 0)\n",
    "\n",
    "    Xs = (X - means) / std\n",
    "\n",
    "    # Tack a column of 1s\n",
    "    Xs = np.insert(Xs, 0, 1, 1)\n",
    "\n",
    "    # Use Xs to generate model (w)\n",
    "    w = np.linalg.lstsq(Xs.T @ Xs, Xs.T @ T, rcond = None)[0]\n",
    "\n",
    "    # Return as a dictionary\n",
    "    dict = {'means': means, 'stds': std, 'w': w}\n",
    "    return dict\n",
    "\n",
    "def use(model, X):\n",
    "    # Use model and input X to predict.\n",
    "    means = model['means']\n",
    "    std = model['stds']\n",
    "    w = model['w']\n",
    "\n",
    "    # Standardize X\n",
    "    Xs = (X - means) / std\n",
    "\n",
    "    # Tack column of 1s\n",
    "    Xs = np.insert(Xs, 0, 1, 1)\n",
    "\n",
    "    # Predict\n",
    "    predict = Xs @ w\n",
    "    #print(Xs.shape)\n",
    "    #print(w.shape)\n",
    "    return predict\n",
    "\n",
    "def rmse(predict, T):\n",
    "    rmerr = np.sqrt(np.mean((T - predict) ** 2))\n",
    "    return rmerr\n",
    "\n",
    "def trainSGD(X, T, learningRate, numberOfIterations):\n",
    "    # Standardize inputs X.\n",
    "    means = X.mean(axis = 0)\n",
    "    std = X.std(axis = 0)\n",
    "    Xs = (X - means) / std\n",
    "\n",
    "    nSamples = Xs.shape[0]\n",
    "    ncolsT = T.shape[1]\n",
    "\n",
    "    # Tack a column of 1s\n",
    "    Xs = np.insert(Xs, 0, 1, 1)\n",
    "    ncolsX = Xs.shape[1]\n",
    "    # Initialize weights to zero.\n",
    "    w = np.zeros((ncolsX, ncolsT))\n",
    "\n",
    "    for i in range(numberOfIterations):\n",
    "        for n in range(nSamples):\n",
    "            predicted = Xs[n:n+1, :] @ w\n",
    "            w += learningRate * Xs[n:n+1, :].T * (T[n:n+1, :] - predicted)\n",
    "\n",
    "    dict = {'means': means, 'stds': std, 'w': w}\n",
    "    return dict"
   ]
  },
  {
   "cell_type": "markdown",
   "metadata": {},
   "source": [
    "In this section, ilatex math formulas defining the formula that is being minimized, and the matrix calculation for finding the weights. \n",
    "\n",
    "In this section, include all necessary imports and the function definitions. Also include some math formulas using latex syntax that define the formula being minimized and the calculation of the weights using a matrix equation.  You do not need to include the math formulas showing the derivations."
   ]
  },
  {
   "cell_type": "markdown",
   "metadata": {},
   "source": [
    "## Examples"
   ]
  },
  {
   "cell_type": "code",
   "execution_count": 13,
   "metadata": {
    "collapsed": true
   },
   "outputs": [],
   "source": [
    "# from A1mysolution import *"
   ]
  },
  {
   "cell_type": "code",
   "execution_count": 18,
   "metadata": {},
   "outputs": [
    {
     "name": "stdout",
     "output_type": "stream",
     "text": [
      "Inputs\n",
      "[[0 1]\n",
      " [2 3]\n",
      " [4 5]\n",
      " [6 7]\n",
      " [8 9]]\n",
      "Targets\n",
      "[[ 2.28627421]\n",
      " [ 8.42677299]\n",
      " [13.51623543]\n",
      " [20.29985881]\n",
      " [25.97002258]]\n"
     ]
    }
   ],
   "source": [
    "import numpy as np\n",
    "\n",
    "X = np.arange(10).reshape((5,2))\n",
    "T = X[:,0:1] + 2 * X[:,1:2] + np.random.uniform(-1, 1,(5, 1))\n",
    "print('Inputs')\n",
    "print(X)\n",
    "print('Targets')\n",
    "print(T)"
   ]
  },
  {
   "cell_type": "code",
   "execution_count": 19,
   "metadata": {},
   "outputs": [
    {
     "data": {
      "text/plain": [
       "{'means': array([4., 5.]),\n",
       " 'stds': array([2.82842712, 2.82842712]),\n",
       " 'w': array([[14.0998328 ],\n",
       "        [ 4.18894176],\n",
       "        [ 4.18894176]])}"
      ]
     },
     "execution_count": 19,
     "metadata": {},
     "output_type": "execute_result"
    }
   ],
   "source": [
    "model = train(X, T)\n",
    "model"
   ]
  },
  {
   "cell_type": "code",
   "execution_count": 20,
   "metadata": {},
   "outputs": [
    {
     "data": {
      "text/plain": [
       "array([[ 2.25171629],\n",
       "       [ 8.17577455],\n",
       "       [14.0998328 ],\n",
       "       [20.02389106],\n",
       "       [25.94794931]])"
      ]
     },
     "execution_count": 20,
     "metadata": {},
     "output_type": "execute_result"
    }
   ],
   "source": [
    "predicted = use(model, X)\n",
    "predicted"
   ]
  },
  {
   "cell_type": "code",
   "execution_count": 21,
   "metadata": {},
   "outputs": [
    {
     "data": {
      "text/plain": [
       "0.3102985005706917"
      ]
     },
     "execution_count": 21,
     "metadata": {},
     "output_type": "execute_result"
    }
   ],
   "source": [
    "rmse(predicted, T)"
   ]
  },
  {
   "cell_type": "code",
   "execution_count": 22,
   "metadata": {},
   "outputs": [
    {
     "data": {
      "text/plain": [
       "{'means': array([4., 5.]),\n",
       " 'stds': array([2.82842712, 2.82842712]),\n",
       " 'w': array([[14.01232407],\n",
       "        [ 4.18984141],\n",
       "        [ 4.18984141]])}"
      ]
     },
     "execution_count": 22,
     "metadata": {},
     "output_type": "execute_result"
    }
   ],
   "source": [
    "modelSGD = trainSGD(X, T, 0.01, 100)\n",
    "modelSGD"
   ]
  },
  {
   "cell_type": "code",
   "execution_count": 23,
   "metadata": {},
   "outputs": [
    {
     "data": {
      "text/plain": [
       "array([[ 2.16166298],\n",
       "       [ 8.08699352],\n",
       "       [14.01232407],\n",
       "       [19.93765462],\n",
       "       [25.86298517]])"
      ]
     },
     "execution_count": 23,
     "metadata": {},
     "output_type": "execute_result"
    }
   ],
   "source": [
    "predicted = use(modelSGD, X)\n",
    "predicted"
   ]
  },
  {
   "cell_type": "code",
   "execution_count": 24,
   "metadata": {},
   "outputs": [
    {
     "data": {
      "text/plain": [
       "0.32240684620899923"
      ]
     },
     "execution_count": 24,
     "metadata": {},
     "output_type": "execute_result"
    }
   ],
   "source": [
    "rmse(predicted, T)"
   ]
  },
  {
   "cell_type": "markdown",
   "metadata": {},
   "source": [
    "## Data"
   ]
  },
  {
   "cell_type": "markdown",
   "metadata": {},
   "source": [
    "Download ```energydata_complete.csv``` from the [Appliances energy prediction Data Set ](https://archive.ics.uci.edu/ml/datasets/Appliances+energy+prediction) at the UCI Machine Learning Repository. Ignore the first column (date and time), use the next two columns as target variables, and use all but the last two columns (named rv1 and rv2) as input variables. \n",
    "\n",
    "In this section include a summary of this data, including the number of samples, the number and kinds of input variables, and the number and kinds of target variables.  Also mention who recorded the data and how.  Some of this information can be found in the paper that is linked to at the UCI site for this data set.  Also show some plots of target variables versus some of the input variables to investigate whether or not linear relationships might exist.  Discuss your observations of these plots."
   ]
  },
  {
   "cell_type": "markdown",
   "metadata": {},
   "source": [
    "## Results"
   ]
  },
  {
   "cell_type": "markdown",
   "metadata": {},
   "source": [
    "Apply your functions to the data.  Compare the error you get as a result of both training functions.  Experiment with different learning rates for ```trainSGD``` and discuss the errors.\n",
    "\n",
    "Make some plots of the predicted energy uses and the actual energy uses versus the sample index.  Also plot predicted energy use versus actual energy use.  Show the above plots for the appliances energy use and repeat them for the lights energy use. Discuss your observations of each graph.\n",
    "\n",
    "Show the values of the resulting weights and discuss which ones might be least relevant for fitting your linear model.  Remove them, fit the linear model again, plot the results, and discuss what you see."
   ]
  },
  {
   "cell_type": "markdown",
   "metadata": {},
   "source": [
    "## Grading\n",
    "\n",
    "Your notebook will be run and graded automatically.  Test this grading process by first downloading [A1grader.tar](http://www.cs.colostate.edu/~anderson/cs445/notebooks/A1grader.tar) and extract `A1grader.py` from it. Run the code in the following cell (after deleting the one containing A1mysolution) to demonstrate an example grading session.  You should see a perfect execution score of 70/70 if your functions are defined correctly. The remaining 30 points will be based on the results you obtain from the energy data and on your discussions.\n",
    "\n",
    "A different, but similar, grading script will be used to grade your checked-in notebook.  It will include additional tests.  You need not include code to test that the values passed in to your functions are the correct form.  "
   ]
  },
  {
   "cell_type": "code",
   "execution_count": 25,
   "metadata": {
    "scrolled": true
   },
   "outputs": [
    {
     "name": "stdout",
     "output_type": "stream",
     "text": [
      "\n",
      "======================= Code Execution =======================\n",
      "\n",
      "Extracting python code from notebook and storing in notebookcode.py\n"
     ]
    },
    {
     "ename": "SyntaxError",
     "evalue": "invalid syntax (eval, line 1)",
     "output_type": "error",
     "traceback": [
      "\u001b[1;36m  File \u001b[1;32m\"eval\"\u001b[1;36m, line \u001b[1;32m1\u001b[0m\n\u001b[1;33m    This application is used to convert notebook files (*.ipynb) to various other\u001b[0m\n\u001b[1;37m                   ^\u001b[0m\n\u001b[1;31mSyntaxError\u001b[0m\u001b[1;31m:\u001b[0m invalid syntax\n"
     ]
    }
   ],
   "source": [
    "%run -i \"A1grader.py\""
   ]
  },
  {
   "cell_type": "markdown",
   "metadata": {},
   "source": [
    "## Check-in"
   ]
  },
  {
   "cell_type": "markdown",
   "metadata": {},
   "source": [
    "Do not include this section in your notebook.\n",
    "\n",
    "Name your notebook ```Lastname-A1.ipynb```.  So, for me it would be ```Anderson-A1.ipynb```.  Submit the file using the ```Assignment 1``` link on [Canvas](https://colostate.instructure.com/courses/41327).\n",
    "\n",
    "Grading will be based on \n",
    "\n",
    "  * correct behavior of the required functions listed above,\n",
    "  * easy to understand plots in your notebook,\n",
    "  * readability of the notebook,\n",
    "  * effort in making interesting observations, and in formatting your notebook."
   ]
  },
  {
   "cell_type": "markdown",
   "metadata": {},
   "source": [
    "## Extra Credit"
   ]
  },
  {
   "cell_type": "markdown",
   "metadata": {},
   "source": [
    "Download a second data set and repeat all of the steps of this assignment on that data set."
   ]
  }
 ],
 "metadata": {
  "kernelspec": {
   "display_name": "Python 3",
   "language": "python",
   "name": "python3"
  },
  "language_info": {
   "codemirror_mode": {
    "name": "ipython",
    "version": 3
   },
   "file_extension": ".py",
   "mimetype": "text/x-python",
   "name": "python",
   "nbconvert_exporter": "python",
   "pygments_lexer": "ipython3",
   "version": "3.6.4"
  }
 },
 "nbformat": 4,
 "nbformat_minor": 2
}
